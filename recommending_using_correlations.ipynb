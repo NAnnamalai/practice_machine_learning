{
 "cells": [
  {
   "cell_type": "code",
   "execution_count": 1,
   "metadata": {},
   "outputs": [],
   "source": [
    "import pandas as pd\n",
    "import numpy as np"
   ]
  },
  {
   "cell_type": "code",
   "execution_count": 2,
   "metadata": {},
   "outputs": [
    {
     "name": "stdout",
     "output_type": "stream",
     "text": [
      "     Unnamed: 0  Patrick C  Heather  Bryan  Patrick T  Thomas  aaron  vanessa  \\\n",
      "0         Alien        NaN      NaN    2.0        NaN     5.0    4.0      NaN   \n",
      "1        Avatar        4.0      5.0    5.0        4.0     2.0    NaN      4.0   \n",
      "2  Blade Runner        5.0      NaN    NaN        NaN     5.0    4.0      NaN   \n",
      "3    Braveheart        4.0      NaN    5.0        NaN     4.0    4.0      3.0   \n",
      "4     Dodgeball        5.0      4.0    3.0        2.0     4.0    NaN      4.0   \n",
      "\n",
      "   greg  brian  ...   Zak  Matt  Chris.1  Josh  Amy  Valerie  Gary  Stephen  \\\n",
      "0   NaN    4.0  ...   NaN   NaN      4.0   3.0  NaN      NaN   2.0      5.0   \n",
      "1   3.0    NaN  ...   5.0   NaN      NaN   4.0  3.0      2.0   1.0      4.0   \n",
      "2   1.0    5.0  ...   NaN   NaN      3.0   NaN  3.0      3.0   1.0      NaN   \n",
      "3   4.0    4.0  ...   5.0   NaN      4.0   NaN  3.0      4.0   5.0      5.0   \n",
      "4   5.0    3.0  ...   3.0   NaN      3.0   NaN  4.0      3.0   4.0      3.0   \n",
      "\n",
      "   Jessica  Jeff  \n",
      "0      NaN   4.0  \n",
      "1      NaN   4.0  \n",
      "2      NaN   5.0  \n",
      "3      NaN   4.0  \n",
      "4      NaN   3.0  \n",
      "\n",
      "[5 rows x 26 columns]\n"
     ]
    }
   ],
   "source": [
    "# Dataset: http://guidetodatamining.com/chapter2/\n",
    "df = pd.read_csv(\"Movie_Ratings.csv\", encoding=\"cp1252\")\n",
    "print df.head()"
   ]
  },
  {
   "cell_type": "code",
   "execution_count": 3,
   "metadata": {},
   "outputs": [
    {
     "name": "stdout",
     "output_type": "stream",
     "text": [
      "         Movies  Patrick C  Heather  Bryan  Patrick T  Thomas  aaron  vanessa  \\\n",
      "0         Alien        NaN      NaN    2.0        NaN     5.0    4.0      NaN   \n",
      "1        Avatar        4.0      5.0    5.0        4.0     2.0    NaN      4.0   \n",
      "2  Blade Runner        5.0      NaN    NaN        NaN     5.0    4.0      NaN   \n",
      "3    Braveheart        4.0      NaN    5.0        NaN     4.0    4.0      3.0   \n",
      "4     Dodgeball        5.0      4.0    3.0        2.0     4.0    NaN      4.0   \n",
      "\n",
      "   greg  brian  ...   Zak  Matt  Chris.1  Josh  Amy  Valerie  Gary  Stephen  \\\n",
      "0   NaN    4.0  ...   NaN   NaN      4.0   3.0  NaN      NaN   2.0      5.0   \n",
      "1   3.0    NaN  ...   5.0   NaN      NaN   4.0  3.0      2.0   1.0      4.0   \n",
      "2   1.0    5.0  ...   NaN   NaN      3.0   NaN  3.0      3.0   1.0      NaN   \n",
      "3   4.0    4.0  ...   5.0   NaN      4.0   NaN  3.0      4.0   5.0      5.0   \n",
      "4   5.0    3.0  ...   3.0   NaN      3.0   NaN  4.0      3.0   4.0      3.0   \n",
      "\n",
      "   Jessica  Jeff  \n",
      "0      NaN   4.0  \n",
      "1      NaN   4.0  \n",
      "2      NaN   5.0  \n",
      "3      NaN   4.0  \n",
      "4      NaN   3.0  \n",
      "\n",
      "[5 rows x 26 columns]\n"
     ]
    }
   ],
   "source": [
    "# rename the first column\n",
    "df = df.rename(columns={'Unnamed: 0': 'Movies'})\n",
    "print df.head(5)"
   ]
  },
  {
   "cell_type": "code",
   "execution_count": 4,
   "metadata": {},
   "outputs": [
    {
     "name": "stdout",
     "output_type": "stream",
     "text": [
      "25 26\n"
     ]
    }
   ],
   "source": [
    "# see no of movies, users\n",
    "# 25 movies, 26 users\n",
    "print len(df['Movies']), len(df.columns)"
   ]
  },
  {
   "cell_type": "code",
   "execution_count": 5,
   "metadata": {},
   "outputs": [
    {
     "name": "stdout",
     "output_type": "stream",
     "text": [
      "Chris 24\n",
      "brian 23\n",
      "Valerie 23\n",
      "Bryan 22\n",
      "Zwe 22\n",
      "Thomas 22\n",
      "Jeff 22\n",
      "Chris.1 22\n",
      "Gary 21\n",
      "ben 20\n",
      "Zak 19\n",
      "Patrick C 18\n",
      "Stephen 18\n",
      "Jonathan 18\n",
      "greg 18\n",
      "Amy 17\n",
      "Patrick T 15\n",
      "Heather 15\n",
      "vanessa 15\n",
      "aaron 14\n",
      "Jessica 12\n",
      "Katherine 12\n",
      "Erin 12\n",
      "Josh 11\n",
      "Matt 6\n"
     ]
    }
   ],
   "source": [
    "# sort by user who rated more no of movies\n",
    "user_rated_count = {}\n",
    "for col in df.columns[1:]:\n",
    "    user_rated_count[col] = len(df[col].dropna())\n",
    "freq_user = sorted(user_rated_count, key=user_rated_count.get, reverse=True)\n",
    "for usr in freq_user:\n",
    "    print usr, user_rated_count[usr]"
   ]
  },
  {
   "cell_type": "code",
   "execution_count": 6,
   "metadata": {},
   "outputs": [
    {
     "name": "stdout",
     "output_type": "stream",
     "text": [
      "25 1        Movies  Patrick C  Heather  Bryan  Patrick T  Thomas  aaron  vanessa  \\\n",
      "22  Toy Story        4.0      3.0    3.0        4.0     4.0    5.0      4.0   \n",
      "\n",
      "    greg  brian  ...   Zak  Matt  Chris.1  Josh  Amy  Valerie  Gary  Stephen  \\\n",
      "22   5.0    5.0  ...   4.0   4.0      4.0   4.0  4.0      5.0   4.0      4.0   \n",
      "\n",
      "    Jessica  Jeff  \n",
      "22      5.0   5.0  \n",
      "\n",
      "[1 rows x 26 columns]\n"
     ]
    }
   ],
   "source": [
    "# see the movies which has been rated by all users\n",
    "# Toy Story is the only movie which has been rated by all users\n",
    "print len(df), len(df.dropna()), df.dropna()"
   ]
  },
  {
   "cell_type": "code",
   "execution_count": 7,
   "metadata": {},
   "outputs": [],
   "source": [
    "def correlation_methods(data, m_name, weightage):\n",
    "    \n",
    "    # find correlation by suggested method\n",
    "    # mask the lower traingle matrix to nan, since these are repeated\n",
    "    data_corr = data.corr(method=m_name)\n",
    "    data_corr = data_corr.mask(np.tril(np.ones(data_corr.shape)).astype(np.bool))\n",
    "    \n",
    "    # resize them to two users, get all similarity score above weightage and sort\n",
    "    data_corr = data_corr[data_corr >= weightage].stack().reset_index()\n",
    "    rename_columns = {'level_0': 'user_1', 'level_1': 'user_2', 0: 'similarity_score'}\n",
    "    data_corr = data_corr.rename(columns=rename_columns)\n",
    "    return data_corr.sort_values('similarity_score', ascending=False).reset_index(drop=True)"
   ]
  },
  {
   "cell_type": "code",
   "execution_count": 8,
   "metadata": {},
   "outputs": [
    {
     "name": "stdout",
     "output_type": "stream",
     "text": [
      "       user_1   user_2  similarity_score\n",
      "0         ben     Matt          1.000000\n",
      "1        greg     Matt          0.975900\n",
      "2       aaron     Erin          0.942881\n",
      "3     vanessa     Matt          0.942809\n",
      "4         Amy  Jessica          0.923077\n",
      "5    Jonathan      Amy          0.870879\n",
      "6   Katherine  Jessica          0.866537\n",
      "7        Matt     Jeff          0.821429\n",
      "8         Zwe     Matt          0.821429\n",
      "9        Matt      Amy          0.816497\n",
      "10       Erin      Zak          0.814120\n",
      "11    Jessica     Jeff          0.810889\n",
      "12    vanessa      ben          0.800001\n",
      "13       Erin      Amy          0.789205\n",
      "14      brian     Erin          0.786607\n",
      "15  Patrick C  Jessica          0.786512\n",
      "16   Jonathan      Zak          0.785395\n",
      "17      brian      Zak          0.779931\n",
      "18       Erin  Jessica          0.777778\n",
      "19   Jonathan    Chris          0.772116\n"
     ]
    }
   ],
   "source": [
    "print correlation_methods(df, 'pearson', 0.5).head(20)"
   ]
  },
  {
   "cell_type": "code",
   "execution_count": 9,
   "metadata": {},
   "outputs": [
    {
     "name": "stdout",
     "output_type": "stream",
     "text": [
      "       user_1     user_2  similarity_score\n",
      "0         ben       Matt          1.000000\n",
      "1        greg       Matt          1.000000\n",
      "2       aaron       Erin          0.914659\n",
      "3         Amy    Jessica          0.893198\n",
      "4        Matt        Amy          0.875000\n",
      "5    Jonathan        Amy          0.830199\n",
      "6        Matt       Jeff          0.800641\n",
      "7         Zwe       Matt          0.800641\n",
      "8   Katherine    Jessica          0.797081\n",
      "9     vanessa       Matt          0.774597\n",
      "10  Patrick T       Josh          0.755929\n",
      "11  Patrick C    Jessica          0.753094\n",
      "12    Jessica       Jeff          0.741249\n",
      "13   Jonathan      Chris          0.733970\n",
      "14       Erin    Jessica          0.708333\n",
      "15  Katherine        Zwe          0.702287\n",
      "16  Patrick C  Katherine          0.684211\n",
      "17      Bryan        Zak          0.684117\n",
      "18   Jonathan        Zwe          0.683495\n",
      "19   Jonathan    Jessica          0.671442\n"
     ]
    }
   ],
   "source": [
    "print correlation_methods(df, 'kendall', 0.5).head(20)"
   ]
  },
  {
   "cell_type": "code",
   "execution_count": 10,
   "metadata": {},
   "outputs": [
    {
     "name": "stdout",
     "output_type": "stream",
     "text": [
      "       user_1     user_2  similarity_score\n",
      "0        greg       Matt          1.000000\n",
      "1         ben       Matt          1.000000\n",
      "2       aaron       Erin          0.942482\n",
      "3         Amy    Jessica          0.941876\n",
      "4        Matt        Amy          0.916667\n",
      "5    Jonathan        Amy          0.886298\n",
      "6   Katherine    Jessica          0.862156\n",
      "7         Zwe       Matt          0.861640\n",
      "8        Matt       Jeff          0.861640\n",
      "9     vanessa       Matt          0.816497\n",
      "10    Jessica       Jeff          0.815757\n",
      "11   Jonathan      Chris          0.815153\n",
      "12  Patrick T       Josh          0.810885\n",
      "13  Patrick C    Jessica          0.803614\n",
      "14      Bryan        Zak          0.770808\n",
      "15       Erin    Jessica          0.765823\n",
      "16  Katherine        Zwe          0.761140\n",
      "17  Patrick C  Katherine          0.751366\n",
      "18    Heather      Bryan          0.749476\n",
      "19   Jonathan        Zwe          0.745236\n"
     ]
    }
   ],
   "source": [
    "print correlation_methods(df, 'spearman', 0.5).head(20)"
   ]
  },
  {
   "cell_type": "code",
   "execution_count": 11,
   "metadata": {},
   "outputs": [
    {
     "name": "stdout",
     "output_type": "stream",
     "text": [
      "                      Bryan  Zak\n",
      "Movies                          \n",
      "Alien                   2.0  NaN\n",
      "Blade Runner            NaN  NaN\n",
      "Jaws                    4.0  NaN\n",
      "Pootie Tang             1.0  NaN\n",
      "Shawshank Redemption    5.0  NaN\n",
      "Snakes on a Plane       2.0  NaN\n"
     ]
    }
   ],
   "source": [
    "# since Bryan & Zak are similar to each other, which we know through the correlation scores,\n",
    "# now let's recommend Zak some movies to watch and rate from the list of Bryan\n",
    "df_recommend = df[['Movies', 'Bryan', 'Zak']]\n",
    "df_recommend = df_recommend.pivot_table(index='Movies')\n",
    "df_recommend = df_recommend[df_recommend['Zak'].isnull()]\n",
    "print df_recommend"
   ]
  },
  {
   "cell_type": "code",
   "execution_count": 12,
   "metadata": {},
   "outputs": [],
   "source": [
    "# Zak can be made a suggestion of watching Jaws, Shawshank Redemption (selected these 2 movies, since they have good ratings. \n",
    "# Other movies Alien, Pootie Tang, Snakes on a Plane can also be suggested)"
   ]
  },
  {
   "cell_type": "code",
   "execution_count": null,
   "metadata": {},
   "outputs": [],
   "source": []
  }
 ],
 "metadata": {
  "kernelspec": {
   "display_name": "Python 2",
   "language": "python",
   "name": "python2"
  },
  "language_info": {
   "codemirror_mode": {
    "name": "ipython",
    "version": 2
   },
   "file_extension": ".py",
   "mimetype": "text/x-python",
   "name": "python",
   "nbconvert_exporter": "python",
   "pygments_lexer": "ipython2",
   "version": "2.7.15"
  }
 },
 "nbformat": 4,
 "nbformat_minor": 2
}
