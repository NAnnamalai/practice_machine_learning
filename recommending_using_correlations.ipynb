{
 "cells": [
  {
   "cell_type": "code",
   "execution_count": null,
   "metadata": {},
   "outputs": [],
   "source": [
    "import pandas as pd\n",
    "import numpy as np"
   ]
  },
  {
   "cell_type": "code",
   "execution_count": null,
   "metadata": {},
   "outputs": [],
   "source": [
    "# Dataset: http://guidetodatamining.com/chapter2/\n",
    "df = pd.read_csv(\"Movie_Ratings.csv\", encoding=\"cp1252\")\n",
    "df.head()"
   ]
  },
  {
   "cell_type": "code",
   "execution_count": null,
   "metadata": {},
   "outputs": [],
   "source": [
    "# rename the first column\n",
    "df = df.rename(columns={'Unnamed: 0': 'Movies'})\n",
    "df.head(5)"
   ]
  },
  {
   "cell_type": "code",
   "execution_count": null,
   "metadata": {},
   "outputs": [],
   "source": [
    "# see no of movies, users\n",
    "# 25 movies, 26 users\n",
    "len(df['Movies']), len(df.columns)"
   ]
  },
  {
   "cell_type": "code",
   "execution_count": null,
   "metadata": {},
   "outputs": [],
   "source": [
    "# sort by user who rated more no of movies\n",
    "user_rated_count = {}\n",
    "for col in df.columns[1:]:\n",
    "    user_rated_count[col] = len(df[col].dropna())\n",
    "freq_user = sorted(user_rated_count, key=user_rated_count.get, reverse=True)\n",
    "for usr in freq_user:\n",
    "    print usr, user_rated_count[usr]"
   ]
  },
  {
   "cell_type": "code",
   "execution_count": null,
   "metadata": {},
   "outputs": [],
   "source": [
    "# see the movies which has been rated by all users\n",
    "# Toy Story is the only movie which has been rated by all users\n",
    "len(df), len(df.dropna()), df.dropna()"
   ]
  },
  {
   "cell_type": "code",
   "execution_count": null,
   "metadata": {},
   "outputs": [],
   "source": [
    "def correlation_methods(data, m_name, weightage):\n",
    "    \n",
    "    # find correlation by suggested method\n",
    "    # mask the lower traingle matrix to nan, since these are repeated\n",
    "    data_corr = data.corr(method=m_name)\n",
    "    data_corr = data_corr.mask(np.tril(np.ones(data_corr.shape)).astype(np.bool))\n",
    "    \n",
    "    # resize them to two users, get all similarity score above weightage and sort\n",
    "    data_corr = data_corr[data_corr >= weightage].stack().reset_index()\n",
    "    rename_columns = {'level_0': 'user_1', 'level_1': 'user_2', 0: 'similarity_score'}\n",
    "    data_corr = data_corr.rename(columns=rename_columns)\n",
    "    return data_corr.sort_values('similarity_score', ascending=False).reset_index(drop=True)"
   ]
  },
  {
   "cell_type": "code",
   "execution_count": null,
   "metadata": {},
   "outputs": [],
   "source": [
    "correlation_methods(df, 'pearson', 0.5).head(20)"
   ]
  },
  {
   "cell_type": "code",
   "execution_count": null,
   "metadata": {},
   "outputs": [],
   "source": [
    "correlation_methods(df, 'kendall', 0.5).head(20)"
   ]
  },
  {
   "cell_type": "code",
   "execution_count": null,
   "metadata": {},
   "outputs": [],
   "source": [
    "correlation_methods(df, 'spearman', 0.5).head(20)"
   ]
  },
  {
   "cell_type": "code",
   "execution_count": null,
   "metadata": {},
   "outputs": [],
   "source": [
    "# since Bryan & Zak are similar to each other, which we know through the correlation scores,\n",
    "# now let's recommend Zak some movies to watch and rate from the list of Bryan\n",
    "df_recommend = df[['Movies', 'Bryan', 'Zak']]\n",
    "df_recommend = df_recommend.pivot_table(index='Movies')\n",
    "df_recommend = df_recommend[df_recommend['Zak'].isnull()]\n",
    "df_recommend"
   ]
  },
  {
   "cell_type": "code",
   "execution_count": null,
   "metadata": {},
   "outputs": [],
   "source": [
    "# Zak can be made a suggestion of watching Jaws, Shawshank Redemption (selected these 2 movies, since they have good ratings. \n",
    "# Other movies Alien, Pootie Tang, Snakes on a Plane can also be suggested)"
   ]
  },
  {
   "cell_type": "code",
   "execution_count": null,
   "metadata": {},
   "outputs": [],
   "source": []
  }
 ],
 "metadata": {
  "kernelspec": {
   "display_name": "Python 2",
   "language": "python",
   "name": "python2"
  },
  "language_info": {
   "codemirror_mode": {
    "name": "ipython",
    "version": 2
   },
   "file_extension": ".py",
   "mimetype": "text/x-python",
   "name": "python",
   "nbconvert_exporter": "python",
   "pygments_lexer": "ipython2",
   "version": "2.7.15"
  }
 },
 "nbformat": 4,
 "nbformat_minor": 2
}
