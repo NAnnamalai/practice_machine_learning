{
 "cells": [
  {
   "cell_type": "markdown",
   "metadata": {},
   "source": [
    "## Data Credits: MovieLens 100K Dataset\n",
    "## URL: https://grouplens.org/datasets/movielens/100k/"
   ]
  },
  {
   "cell_type": "markdown",
   "metadata": {},
   "source": [
    "### We are going to build a small recommendation engine which will help us to select a movie to watch"
   ]
  },
  {
   "cell_type": "code",
   "execution_count": 1,
   "metadata": {
    "collapsed": true
   },
   "outputs": [],
   "source": [
    "# import necessary libraries\n",
    "import pandas as pd\n",
    "%matplotlib inline"
   ]
  },
  {
   "cell_type": "markdown",
   "metadata": {},
   "source": [
    "### After downloading the dataset, read through the README, there are three files that we are going to make use of. They are u.data, u.item, u.user, let's read each file"
   ]
  },
  {
   "cell_type": "code",
   "execution_count": 2,
   "metadata": {
    "collapsed": false
   },
   "outputs": [
    {
     "data": {
      "text/html": [
       "<div style=\"max-height:1000px;max-width:1500px;overflow:auto;\">\n",
       "<table border=\"1\" class=\"dataframe\">\n",
       "  <thead>\n",
       "    <tr style=\"text-align: right;\">\n",
       "      <th></th>\n",
       "      <th>user_id</th>\n",
       "      <th>item_id</th>\n",
       "      <th>rating</th>\n",
       "      <th>timestamp</th>\n",
       "    </tr>\n",
       "  </thead>\n",
       "  <tbody>\n",
       "    <tr>\n",
       "      <th>0</th>\n",
       "      <td> 196</td>\n",
       "      <td> 242</td>\n",
       "      <td> 3</td>\n",
       "      <td> 881250949</td>\n",
       "    </tr>\n",
       "    <tr>\n",
       "      <th>1</th>\n",
       "      <td> 186</td>\n",
       "      <td> 302</td>\n",
       "      <td> 3</td>\n",
       "      <td> 891717742</td>\n",
       "    </tr>\n",
       "    <tr>\n",
       "      <th>2</th>\n",
       "      <td>  22</td>\n",
       "      <td> 377</td>\n",
       "      <td> 1</td>\n",
       "      <td> 878887116</td>\n",
       "    </tr>\n",
       "    <tr>\n",
       "      <th>3</th>\n",
       "      <td> 244</td>\n",
       "      <td>  51</td>\n",
       "      <td> 2</td>\n",
       "      <td> 880606923</td>\n",
       "    </tr>\n",
       "    <tr>\n",
       "      <th>4</th>\n",
       "      <td> 166</td>\n",
       "      <td> 346</td>\n",
       "      <td> 1</td>\n",
       "      <td> 886397596</td>\n",
       "    </tr>\n",
       "  </tbody>\n",
       "</table>\n",
       "</div>"
      ],
      "text/plain": [
       "   user_id  item_id  rating  timestamp\n",
       "0      196      242       3  881250949\n",
       "1      186      302       3  891717742\n",
       "2       22      377       1  878887116\n",
       "3      244       51       2  880606923\n",
       "4      166      346       1  886397596"
      ]
     },
     "execution_count": 2,
     "metadata": {},
     "output_type": "execute_result"
    }
   ],
   "source": [
    "# u.data is tab delimited and passing the column names from README\n",
    "df = pd.read_csv(\"u.data\", sep=\"\\t\", names=['user_id', 'item_id', 'rating', 'timestamp'])\n",
    "df.head(5)"
   ]
  },
  {
   "cell_type": "markdown",
   "metadata": {},
   "source": [
    "### We will not conside the timestamp column, so let's go ahead and deselect it"
   ]
  },
  {
   "cell_type": "code",
   "execution_count": 3,
   "metadata": {
    "collapsed": false
   },
   "outputs": [
    {
     "data": {
      "text/html": [
       "<div style=\"max-height:1000px;max-width:1500px;overflow:auto;\">\n",
       "<table border=\"1\" class=\"dataframe\">\n",
       "  <thead>\n",
       "    <tr style=\"text-align: right;\">\n",
       "      <th></th>\n",
       "      <th>user_id</th>\n",
       "      <th>item_id</th>\n",
       "      <th>rating</th>\n",
       "    </tr>\n",
       "  </thead>\n",
       "  <tbody>\n",
       "    <tr>\n",
       "      <th>0</th>\n",
       "      <td> 196</td>\n",
       "      <td> 242</td>\n",
       "      <td> 3</td>\n",
       "    </tr>\n",
       "    <tr>\n",
       "      <th>1</th>\n",
       "      <td> 186</td>\n",
       "      <td> 302</td>\n",
       "      <td> 3</td>\n",
       "    </tr>\n",
       "    <tr>\n",
       "      <th>2</th>\n",
       "      <td>  22</td>\n",
       "      <td> 377</td>\n",
       "      <td> 1</td>\n",
       "    </tr>\n",
       "    <tr>\n",
       "      <th>3</th>\n",
       "      <td> 244</td>\n",
       "      <td>  51</td>\n",
       "      <td> 2</td>\n",
       "    </tr>\n",
       "    <tr>\n",
       "      <th>4</th>\n",
       "      <td> 166</td>\n",
       "      <td> 346</td>\n",
       "      <td> 1</td>\n",
       "    </tr>\n",
       "  </tbody>\n",
       "</table>\n",
       "</div>"
      ],
      "text/plain": [
       "   user_id  item_id  rating\n",
       "0      196      242       3\n",
       "1      186      302       3\n",
       "2       22      377       1\n",
       "3      244       51       2\n",
       "4      166      346       1"
      ]
     },
     "execution_count": 3,
     "metadata": {},
     "output_type": "execute_result"
    }
   ],
   "source": [
    "df = df[['user_id', 'item_id', 'rating']]\n",
    "df.head(5)"
   ]
  },
  {
   "cell_type": "markdown",
   "metadata": {},
   "source": [
    "#### user_id is related with u.user file\n",
    "#### item_id is related with u.item file\n",
    "#### let's read the next set of files"
   ]
  },
  {
   "cell_type": "code",
   "execution_count": 4,
   "metadata": {
    "collapsed": false
   },
   "outputs": [
    {
     "data": {
      "text/html": [
       "<div style=\"max-height:1000px;max-width:1500px;overflow:auto;\">\n",
       "<table border=\"1\" class=\"dataframe\">\n",
       "  <thead>\n",
       "    <tr style=\"text-align: right;\">\n",
       "      <th></th>\n",
       "      <th>movie_id</th>\n",
       "      <th>movie_title</th>\n",
       "      <th>release_date</th>\n",
       "      <th>video_release_date</th>\n",
       "      <th>IMDb_URL</th>\n",
       "      <th>unknown</th>\n",
       "      <th>Action</th>\n",
       "      <th>Adventure</th>\n",
       "      <th>Animation</th>\n",
       "      <th>Children's</th>\n",
       "      <th>...</th>\n",
       "      <th>Fantasy</th>\n",
       "      <th>Film-Noir</th>\n",
       "      <th>Horror</th>\n",
       "      <th>Musical</th>\n",
       "      <th>Mystery</th>\n",
       "      <th>Romance</th>\n",
       "      <th>Sci-Fi</th>\n",
       "      <th>Thriller</th>\n",
       "      <th>War</th>\n",
       "      <th>Western</th>\n",
       "    </tr>\n",
       "  </thead>\n",
       "  <tbody>\n",
       "    <tr>\n",
       "      <th>0</th>\n",
       "      <td> 1</td>\n",
       "      <td>  Toy Story (1995)</td>\n",
       "      <td> 01-Jan-1995</td>\n",
       "      <td>NaN</td>\n",
       "      <td> http://us.imdb.com/M/title-exact?Toy%20Story%2...</td>\n",
       "      <td> 0</td>\n",
       "      <td> 0</td>\n",
       "      <td> 0</td>\n",
       "      <td> 1</td>\n",
       "      <td> 1</td>\n",
       "      <td>...</td>\n",
       "      <td> 0</td>\n",
       "      <td> 0</td>\n",
       "      <td> 0</td>\n",
       "      <td> 0</td>\n",
       "      <td> 0</td>\n",
       "      <td> 0</td>\n",
       "      <td> 0</td>\n",
       "      <td> 0</td>\n",
       "      <td> 0</td>\n",
       "      <td> 0</td>\n",
       "    </tr>\n",
       "    <tr>\n",
       "      <th>1</th>\n",
       "      <td> 2</td>\n",
       "      <td>  GoldenEye (1995)</td>\n",
       "      <td> 01-Jan-1995</td>\n",
       "      <td>NaN</td>\n",
       "      <td> http://us.imdb.com/M/title-exact?GoldenEye%20(...</td>\n",
       "      <td> 0</td>\n",
       "      <td> 1</td>\n",
       "      <td> 1</td>\n",
       "      <td> 0</td>\n",
       "      <td> 0</td>\n",
       "      <td>...</td>\n",
       "      <td> 0</td>\n",
       "      <td> 0</td>\n",
       "      <td> 0</td>\n",
       "      <td> 0</td>\n",
       "      <td> 0</td>\n",
       "      <td> 0</td>\n",
       "      <td> 0</td>\n",
       "      <td> 1</td>\n",
       "      <td> 0</td>\n",
       "      <td> 0</td>\n",
       "    </tr>\n",
       "    <tr>\n",
       "      <th>2</th>\n",
       "      <td> 3</td>\n",
       "      <td> Four Rooms (1995)</td>\n",
       "      <td> 01-Jan-1995</td>\n",
       "      <td>NaN</td>\n",
       "      <td> http://us.imdb.com/M/title-exact?Four%20Rooms%...</td>\n",
       "      <td> 0</td>\n",
       "      <td> 0</td>\n",
       "      <td> 0</td>\n",
       "      <td> 0</td>\n",
       "      <td> 0</td>\n",
       "      <td>...</td>\n",
       "      <td> 0</td>\n",
       "      <td> 0</td>\n",
       "      <td> 0</td>\n",
       "      <td> 0</td>\n",
       "      <td> 0</td>\n",
       "      <td> 0</td>\n",
       "      <td> 0</td>\n",
       "      <td> 1</td>\n",
       "      <td> 0</td>\n",
       "      <td> 0</td>\n",
       "    </tr>\n",
       "    <tr>\n",
       "      <th>3</th>\n",
       "      <td> 4</td>\n",
       "      <td> Get Shorty (1995)</td>\n",
       "      <td> 01-Jan-1995</td>\n",
       "      <td>NaN</td>\n",
       "      <td> http://us.imdb.com/M/title-exact?Get%20Shorty%...</td>\n",
       "      <td> 0</td>\n",
       "      <td> 1</td>\n",
       "      <td> 0</td>\n",
       "      <td> 0</td>\n",
       "      <td> 0</td>\n",
       "      <td>...</td>\n",
       "      <td> 0</td>\n",
       "      <td> 0</td>\n",
       "      <td> 0</td>\n",
       "      <td> 0</td>\n",
       "      <td> 0</td>\n",
       "      <td> 0</td>\n",
       "      <td> 0</td>\n",
       "      <td> 0</td>\n",
       "      <td> 0</td>\n",
       "      <td> 0</td>\n",
       "    </tr>\n",
       "    <tr>\n",
       "      <th>4</th>\n",
       "      <td> 5</td>\n",
       "      <td>    Copycat (1995)</td>\n",
       "      <td> 01-Jan-1995</td>\n",
       "      <td>NaN</td>\n",
       "      <td> http://us.imdb.com/M/title-exact?Copycat%20(1995)</td>\n",
       "      <td> 0</td>\n",
       "      <td> 0</td>\n",
       "      <td> 0</td>\n",
       "      <td> 0</td>\n",
       "      <td> 0</td>\n",
       "      <td>...</td>\n",
       "      <td> 0</td>\n",
       "      <td> 0</td>\n",
       "      <td> 0</td>\n",
       "      <td> 0</td>\n",
       "      <td> 0</td>\n",
       "      <td> 0</td>\n",
       "      <td> 0</td>\n",
       "      <td> 1</td>\n",
       "      <td> 0</td>\n",
       "      <td> 0</td>\n",
       "    </tr>\n",
       "  </tbody>\n",
       "</table>\n",
       "<p>5 rows × 24 columns</p>\n",
       "</div>"
      ],
      "text/plain": [
       "   movie_id        movie_title release_date  video_release_date  \\\n",
       "0         1   Toy Story (1995)  01-Jan-1995                 NaN   \n",
       "1         2   GoldenEye (1995)  01-Jan-1995                 NaN   \n",
       "2         3  Four Rooms (1995)  01-Jan-1995                 NaN   \n",
       "3         4  Get Shorty (1995)  01-Jan-1995                 NaN   \n",
       "4         5     Copycat (1995)  01-Jan-1995                 NaN   \n",
       "\n",
       "                                            IMDb_URL  unknown  Action  \\\n",
       "0  http://us.imdb.com/M/title-exact?Toy%20Story%2...        0       0   \n",
       "1  http://us.imdb.com/M/title-exact?GoldenEye%20(...        0       1   \n",
       "2  http://us.imdb.com/M/title-exact?Four%20Rooms%...        0       0   \n",
       "3  http://us.imdb.com/M/title-exact?Get%20Shorty%...        0       1   \n",
       "4  http://us.imdb.com/M/title-exact?Copycat%20(1995)        0       0   \n",
       "\n",
       "   Adventure  Animation  Children's   ...     Fantasy  Film-Noir  Horror  \\\n",
       "0          0          1           1   ...           0          0       0   \n",
       "1          1          0           0   ...           0          0       0   \n",
       "2          0          0           0   ...           0          0       0   \n",
       "3          0          0           0   ...           0          0       0   \n",
       "4          0          0           0   ...           0          0       0   \n",
       "\n",
       "   Musical  Mystery  Romance  Sci-Fi  Thriller  War  Western  \n",
       "0        0        0        0       0         0    0        0  \n",
       "1        0        0        0       0         1    0        0  \n",
       "2        0        0        0       0         1    0        0  \n",
       "3        0        0        0       0         0    0        0  \n",
       "4        0        0        0       0         1    0        0  \n",
       "\n",
       "[5 rows x 24 columns]"
      ]
     },
     "execution_count": 4,
     "metadata": {},
     "output_type": "execute_result"
    }
   ],
   "source": [
    "# u.data is | delimited and passing the column names from README\n",
    "movie_df = pd.read_csv('u.item', sep='|', names=['movie_id', 'movie_title', 'release_date', 'video_release_date', 'IMDb_URL', \n",
    "                                                  'unknown', 'Action', 'Adventure', 'Animation', \"Children's\", 'Comedy', 'Crime',\n",
    "                                                  'Documentary', 'Drama', 'Fantasy', 'Film-Noir', 'Horror', 'Musical', 'Mystery',\n",
    "                                                  'Romance', 'Sci-Fi', 'Thriller', 'War', 'Western'])\n",
    "movie_df.head(5)"
   ]
  },
  {
   "cell_type": "markdown",
   "metadata": {},
   "source": [
    "#### Genres are binary one hot code in columns (last 19 columns), for ease of use lets get them to one column, but do store the binary one hot code frame in another dataframe for later use"
   ]
  },
  {
   "cell_type": "code",
   "execution_count": 5,
   "metadata": {
    "collapsed": false
   },
   "outputs": [
    {
     "data": {
      "text/html": [
       "<div style=\"max-height:1000px;max-width:1500px;overflow:auto;\">\n",
       "<table border=\"1\" class=\"dataframe\">\n",
       "  <thead>\n",
       "    <tr style=\"text-align: right;\">\n",
       "      <th></th>\n",
       "      <th>movie_id</th>\n",
       "      <th>movie_title</th>\n",
       "      <th>release_date</th>\n",
       "      <th>video_release_date</th>\n",
       "      <th>IMDb_URL</th>\n",
       "      <th>genre</th>\n",
       "    </tr>\n",
       "  </thead>\n",
       "  <tbody>\n",
       "    <tr>\n",
       "      <th>0</th>\n",
       "      <td> 1</td>\n",
       "      <td>  Toy Story (1995)</td>\n",
       "      <td> 01-Jan-1995</td>\n",
       "      <td>NaN</td>\n",
       "      <td> http://us.imdb.com/M/title-exact?Toy%20Story%2...</td>\n",
       "      <td> Animation</td>\n",
       "    </tr>\n",
       "    <tr>\n",
       "      <th>1</th>\n",
       "      <td> 2</td>\n",
       "      <td>  GoldenEye (1995)</td>\n",
       "      <td> 01-Jan-1995</td>\n",
       "      <td>NaN</td>\n",
       "      <td> http://us.imdb.com/M/title-exact?GoldenEye%20(...</td>\n",
       "      <td>    Action</td>\n",
       "    </tr>\n",
       "    <tr>\n",
       "      <th>2</th>\n",
       "      <td> 3</td>\n",
       "      <td> Four Rooms (1995)</td>\n",
       "      <td> 01-Jan-1995</td>\n",
       "      <td>NaN</td>\n",
       "      <td> http://us.imdb.com/M/title-exact?Four%20Rooms%...</td>\n",
       "      <td>  Thriller</td>\n",
       "    </tr>\n",
       "    <tr>\n",
       "      <th>3</th>\n",
       "      <td> 4</td>\n",
       "      <td> Get Shorty (1995)</td>\n",
       "      <td> 01-Jan-1995</td>\n",
       "      <td>NaN</td>\n",
       "      <td> http://us.imdb.com/M/title-exact?Get%20Shorty%...</td>\n",
       "      <td>    Action</td>\n",
       "    </tr>\n",
       "    <tr>\n",
       "      <th>4</th>\n",
       "      <td> 5</td>\n",
       "      <td>    Copycat (1995)</td>\n",
       "      <td> 01-Jan-1995</td>\n",
       "      <td>NaN</td>\n",
       "      <td> http://us.imdb.com/M/title-exact?Copycat%20(1995)</td>\n",
       "      <td>     Crime</td>\n",
       "    </tr>\n",
       "  </tbody>\n",
       "</table>\n",
       "</div>"
      ],
      "text/plain": [
       "   movie_id        movie_title release_date  video_release_date  \\\n",
       "0         1   Toy Story (1995)  01-Jan-1995                 NaN   \n",
       "1         2   GoldenEye (1995)  01-Jan-1995                 NaN   \n",
       "2         3  Four Rooms (1995)  01-Jan-1995                 NaN   \n",
       "3         4  Get Shorty (1995)  01-Jan-1995                 NaN   \n",
       "4         5     Copycat (1995)  01-Jan-1995                 NaN   \n",
       "\n",
       "                                            IMDb_URL      genre  \n",
       "0  http://us.imdb.com/M/title-exact?Toy%20Story%2...  Animation  \n",
       "1  http://us.imdb.com/M/title-exact?GoldenEye%20(...     Action  \n",
       "2  http://us.imdb.com/M/title-exact?Four%20Rooms%...   Thriller  \n",
       "3  http://us.imdb.com/M/title-exact?Get%20Shorty%...     Action  \n",
       "4  http://us.imdb.com/M/title-exact?Copycat%20(1995)      Crime  "
      ]
     },
     "execution_count": 5,
     "metadata": {},
     "output_type": "execute_result"
    }
   ],
   "source": [
    "films_db = movie_df\n",
    "# capture all genre columns, get them to one column, remove them after it is done\n",
    "genres = ['unknown', 'Action', 'Adventure', 'Animation', \"Children's\", 'Comedy', 'Crime',\n",
    "          'Documentary', 'Drama', 'Fantasy', 'Film-Noir', 'Horror', 'Musical', 'Mystery',\n",
    "          'Romance', 'Sci-Fi', 'Thriller', 'War', 'Western']\n",
    "\n",
    "movie_df['genre'] = movie_df[genres].idxmax(1)\n",
    "movie_df = movie_df.drop(genres, axis=1)\n",
    "movie_df.head(5)"
   ]
  },
  {
   "cell_type": "markdown",
   "metadata": {},
   "source": [
    "#### we will select only the necessary columns here too, think we can just drop the video_release_date column alone"
   ]
  },
  {
   "cell_type": "code",
   "execution_count": 6,
   "metadata": {
    "collapsed": true
   },
   "outputs": [],
   "source": [
    "movie_df = movie_df[['movie_id', 'movie_title', 'release_date', 'IMDb_URL', 'genre']]"
   ]
  },
  {
   "cell_type": "markdown",
   "metadata": {},
   "source": [
    "#### some preprocessing needs to be done in the release_date column, since we just want the year of release so we can use it to distinguish 80's 0r 90's"
   ]
  },
  {
   "cell_type": "code",
   "execution_count": 7,
   "metadata": {
    "collapsed": false
   },
   "outputs": [
    {
     "data": {
      "text/html": [
       "<div style=\"max-height:1000px;max-width:1500px;overflow:auto;\">\n",
       "<table border=\"1\" class=\"dataframe\">\n",
       "  <thead>\n",
       "    <tr style=\"text-align: right;\">\n",
       "      <th></th>\n",
       "      <th>movie_id</th>\n",
       "      <th>movie_title</th>\n",
       "      <th>release_year</th>\n",
       "      <th>IMDb_URL</th>\n",
       "      <th>genre</th>\n",
       "    </tr>\n",
       "  </thead>\n",
       "  <tbody>\n",
       "    <tr>\n",
       "      <th>0</th>\n",
       "      <td> 1</td>\n",
       "      <td>  Toy Story (1995)</td>\n",
       "      <td> 1995</td>\n",
       "      <td> http://us.imdb.com/M/title-exact?Toy%20Story%2...</td>\n",
       "      <td> Animation</td>\n",
       "    </tr>\n",
       "    <tr>\n",
       "      <th>1</th>\n",
       "      <td> 2</td>\n",
       "      <td>  GoldenEye (1995)</td>\n",
       "      <td> 1995</td>\n",
       "      <td> http://us.imdb.com/M/title-exact?GoldenEye%20(...</td>\n",
       "      <td>    Action</td>\n",
       "    </tr>\n",
       "    <tr>\n",
       "      <th>2</th>\n",
       "      <td> 3</td>\n",
       "      <td> Four Rooms (1995)</td>\n",
       "      <td> 1995</td>\n",
       "      <td> http://us.imdb.com/M/title-exact?Four%20Rooms%...</td>\n",
       "      <td>  Thriller</td>\n",
       "    </tr>\n",
       "    <tr>\n",
       "      <th>3</th>\n",
       "      <td> 4</td>\n",
       "      <td> Get Shorty (1995)</td>\n",
       "      <td> 1995</td>\n",
       "      <td> http://us.imdb.com/M/title-exact?Get%20Shorty%...</td>\n",
       "      <td>    Action</td>\n",
       "    </tr>\n",
       "    <tr>\n",
       "      <th>4</th>\n",
       "      <td> 5</td>\n",
       "      <td>    Copycat (1995)</td>\n",
       "      <td> 1995</td>\n",
       "      <td> http://us.imdb.com/M/title-exact?Copycat%20(1995)</td>\n",
       "      <td>     Crime</td>\n",
       "    </tr>\n",
       "  </tbody>\n",
       "</table>\n",
       "</div>"
      ],
      "text/plain": [
       "   movie_id        movie_title  release_year  \\\n",
       "0         1   Toy Story (1995)          1995   \n",
       "1         2   GoldenEye (1995)          1995   \n",
       "2         3  Four Rooms (1995)          1995   \n",
       "3         4  Get Shorty (1995)          1995   \n",
       "4         5     Copycat (1995)          1995   \n",
       "\n",
       "                                            IMDb_URL      genre  \n",
       "0  http://us.imdb.com/M/title-exact?Toy%20Story%2...  Animation  \n",
       "1  http://us.imdb.com/M/title-exact?GoldenEye%20(...     Action  \n",
       "2  http://us.imdb.com/M/title-exact?Four%20Rooms%...   Thriller  \n",
       "3  http://us.imdb.com/M/title-exact?Get%20Shorty%...     Action  \n",
       "4  http://us.imdb.com/M/title-exact?Copycat%20(1995)      Crime  "
      ]
     },
     "execution_count": 7,
     "metadata": {},
     "output_type": "execute_result"
    }
   ],
   "source": [
    "movie_df['release_year'] = pd.to_datetime(movie_df['release_date'])\n",
    "movie_df['release_year'] = movie_df['release_year'].dt.year\n",
    "movie_df = movie_df[['movie_id', 'movie_title', 'release_year', 'IMDb_URL', 'genre']]\n",
    "movie_df.head(5)"
   ]
  },
  {
   "cell_type": "code",
   "execution_count": 8,
   "metadata": {
    "collapsed": false
   },
   "outputs": [
    {
     "name": "stdout",
     "output_type": "stream",
     "text": [
      "1682\n",
      "1922 1998\n"
     ]
    }
   ],
   "source": [
    "print len(movie_df) # 1682 movies\n",
    "print int(movie_df['release_year'].min()),  int(movie_df['release_year'].max()) # 76 years"
   ]
  },
  {
   "cell_type": "markdown",
   "metadata": {},
   "source": [
    "#### No. of Movie Reviews in each year"
   ]
  },
  {
   "cell_type": "code",
   "execution_count": 9,
   "metadata": {
    "collapsed": false
   },
   "outputs": [
    {
     "data": {
      "image/png": "[encoded data removed]",
      "text/plain": [
       "<matplotlib.figure.Figure at 0xc5f85f8>"
      ]
     },
     "metadata": {},
     "output_type": "display_data"
    }
   ],
   "source": [
    "mvies_grp = movie_df.groupby(['release_year'], as_index=False).agg({'movie_id': 'count'})\n",
    "# putting a filter, since before 1980 very less reviews\n",
    "mvies_grp = mvies_grp[mvies_grp['release_year'] > 1980]\n",
    "\n",
    "from pylab import *\n",
    "plot(list(mvies_grp['release_year']), list(mvies_grp['movie_id']))\n",
    "xlabel('Year')\n",
    "ylabel('No. of Movie Reviews')\n",
    "title('No. of Movies Reviews in Years')\n",
    "grid(True)\n",
    "show()"
   ]
  },
  {
   "cell_type": "markdown",
   "metadata": {},
   "source": [
    "#### now the user info file"
   ]
  },
  {
   "cell_type": "code",
   "execution_count": 10,
   "metadata": {
    "collapsed": false
   },
   "outputs": [
    {
     "data": {
      "text/html": [
       "<div style=\"max-height:1000px;max-width:1500px;overflow:auto;\">\n",
       "<table border=\"1\" class=\"dataframe\">\n",
       "  <thead>\n",
       "    <tr style=\"text-align: right;\">\n",
       "      <th></th>\n",
       "      <th>user_id</th>\n",
       "      <th>age</th>\n",
       "      <th>gender</th>\n",
       "      <th>occupation</th>\n",
       "      <th>zip code</th>\n",
       "    </tr>\n",
       "  </thead>\n",
       "  <tbody>\n",
       "    <tr>\n",
       "      <th>0</th>\n",
       "      <td> 1</td>\n",
       "      <td> 24</td>\n",
       "      <td> M</td>\n",
       "      <td> technician</td>\n",
       "      <td> 85711</td>\n",
       "    </tr>\n",
       "    <tr>\n",
       "      <th>1</th>\n",
       "      <td> 2</td>\n",
       "      <td> 53</td>\n",
       "      <td> F</td>\n",
       "      <td>      other</td>\n",
       "      <td> 94043</td>\n",
       "    </tr>\n",
       "    <tr>\n",
       "      <th>2</th>\n",
       "      <td> 3</td>\n",
       "      <td> 23</td>\n",
       "      <td> M</td>\n",
       "      <td>     writer</td>\n",
       "      <td> 32067</td>\n",
       "    </tr>\n",
       "    <tr>\n",
       "      <th>3</th>\n",
       "      <td> 4</td>\n",
       "      <td> 24</td>\n",
       "      <td> M</td>\n",
       "      <td> technician</td>\n",
       "      <td> 43537</td>\n",
       "    </tr>\n",
       "    <tr>\n",
       "      <th>4</th>\n",
       "      <td> 5</td>\n",
       "      <td> 33</td>\n",
       "      <td> F</td>\n",
       "      <td>      other</td>\n",
       "      <td> 15213</td>\n",
       "    </tr>\n",
       "  </tbody>\n",
       "</table>\n",
       "</div>"
      ],
      "text/plain": [
       "   user_id  age gender  occupation zip code\n",
       "0        1   24      M  technician    85711\n",
       "1        2   53      F       other    94043\n",
       "2        3   23      M      writer    32067\n",
       "3        4   24      M  technician    43537\n",
       "4        5   33      F       other    15213"
      ]
     },
     "execution_count": 10,
     "metadata": {},
     "output_type": "execute_result"
    }
   ],
   "source": [
    "user_df = pd.read_csv(\"u.user\", sep=\"|\", names=['user_id', 'age', 'gender', 'occupation', 'zip code'])\n",
    "user_df.head(5)"
   ]
  },
  {
   "cell_type": "markdown",
   "metadata": {},
   "source": [
    "#### select only necessary columns"
   ]
  },
  {
   "cell_type": "code",
   "execution_count": 11,
   "metadata": {
    "collapsed": true
   },
   "outputs": [],
   "source": [
    "user_df = user_df[['user_id', 'age', 'gender', 'occupation']]"
   ]
  },
  {
   "cell_type": "markdown",
   "metadata": {},
   "source": [
    "#### Now to see which movie has most number of reviews by count, so by that it means more people have watched it"
   ]
  },
  {
   "cell_type": "code",
   "execution_count": 12,
   "metadata": {
    "collapsed": false
   },
   "outputs": [
    {
     "data": {
      "text/html": [
       "<div style=\"max-height:1000px;max-width:1500px;overflow:auto;\">\n",
       "<table border=\"1\" class=\"dataframe\">\n",
       "  <thead>\n",
       "    <tr style=\"text-align: right;\">\n",
       "      <th></th>\n",
       "      <th>item_id</th>\n",
       "      <th>rating</th>\n",
       "    </tr>\n",
       "  </thead>\n",
       "  <tbody>\n",
       "    <tr>\n",
       "      <th>49 </th>\n",
       "      <td>  50</td>\n",
       "      <td> 583</td>\n",
       "    </tr>\n",
       "    <tr>\n",
       "      <th>257</th>\n",
       "      <td> 258</td>\n",
       "      <td> 509</td>\n",
       "    </tr>\n",
       "    <tr>\n",
       "      <th>99 </th>\n",
       "      <td> 100</td>\n",
       "      <td> 508</td>\n",
       "    </tr>\n",
       "    <tr>\n",
       "      <th>180</th>\n",
       "      <td> 181</td>\n",
       "      <td> 507</td>\n",
       "    </tr>\n",
       "    <tr>\n",
       "      <th>293</th>\n",
       "      <td> 294</td>\n",
       "      <td> 485</td>\n",
       "    </tr>\n",
       "  </tbody>\n",
       "</table>\n",
       "</div>"
      ],
      "text/plain": [
       "     item_id  rating\n",
       "49        50     583\n",
       "257      258     509\n",
       "99       100     508\n",
       "180      181     507\n",
       "293      294     485"
      ]
     },
     "execution_count": 12,
     "metadata": {},
     "output_type": "execute_result"
    }
   ],
   "source": [
    "# popular movies by count of reviews\n",
    "grp_movies = df.groupby(['item_id'], as_index=False)\n",
    "pop_mvies = grp_movies.agg({\"rating\": 'count'})\n",
    "pop_five = pop_mvies.sort(\"rating\", ascending=False).head(5)\n",
    "pop_five"
   ]
  },
  {
   "cell_type": "code",
   "execution_count": 13,
   "metadata": {
    "collapsed": false
   },
   "outputs": [
    {
     "data": {
      "text/html": [
       "<div style=\"max-height:1000px;max-width:1500px;overflow:auto;\">\n",
       "<table border=\"1\" class=\"dataframe\">\n",
       "  <thead>\n",
       "    <tr style=\"text-align: right;\">\n",
       "      <th></th>\n",
       "      <th>item_id</th>\n",
       "      <th>rating</th>\n",
       "      <th>movie_id</th>\n",
       "      <th>movie_title</th>\n",
       "      <th>release_year</th>\n",
       "      <th>IMDb_URL</th>\n",
       "      <th>genre</th>\n",
       "    </tr>\n",
       "  </thead>\n",
       "  <tbody>\n",
       "    <tr>\n",
       "      <th>0</th>\n",
       "      <td>  50</td>\n",
       "      <td> 583</td>\n",
       "      <td>  50</td>\n",
       "      <td>          Star Wars (1977)</td>\n",
       "      <td> 1977</td>\n",
       "      <td> http://us.imdb.com/M/title-exact?Star%20Wars%2...</td>\n",
       "      <td> Action</td>\n",
       "    </tr>\n",
       "    <tr>\n",
       "      <th>1</th>\n",
       "      <td> 258</td>\n",
       "      <td> 509</td>\n",
       "      <td> 258</td>\n",
       "      <td>            Contact (1997)</td>\n",
       "      <td> 1997</td>\n",
       "      <td>         http://us.imdb.com/Title?Contact+(1997/I)</td>\n",
       "      <td>  Drama</td>\n",
       "    </tr>\n",
       "    <tr>\n",
       "      <th>2</th>\n",
       "      <td> 100</td>\n",
       "      <td> 508</td>\n",
       "      <td> 100</td>\n",
       "      <td>              Fargo (1996)</td>\n",
       "      <td> 1997</td>\n",
       "      <td>   http://us.imdb.com/M/title-exact?Fargo%20(1996)</td>\n",
       "      <td>  Crime</td>\n",
       "    </tr>\n",
       "    <tr>\n",
       "      <th>3</th>\n",
       "      <td> 181</td>\n",
       "      <td> 507</td>\n",
       "      <td> 181</td>\n",
       "      <td> Return of the Jedi (1983)</td>\n",
       "      <td> 1997</td>\n",
       "      <td> http://us.imdb.com/M/title-exact?Return%20of%2...</td>\n",
       "      <td> Action</td>\n",
       "    </tr>\n",
       "    <tr>\n",
       "      <th>4</th>\n",
       "      <td> 294</td>\n",
       "      <td> 485</td>\n",
       "      <td> 294</td>\n",
       "      <td>          Liar Liar (1997)</td>\n",
       "      <td> 1997</td>\n",
       "      <td>         http://us.imdb.com/Title?Liar+Liar+(1997)</td>\n",
       "      <td> Comedy</td>\n",
       "    </tr>\n",
       "  </tbody>\n",
       "</table>\n",
       "</div>"
      ],
      "text/plain": [
       "   item_id  rating  movie_id                movie_title  release_year  \\\n",
       "0       50     583        50           Star Wars (1977)          1977   \n",
       "1      258     509       258             Contact (1997)          1997   \n",
       "2      100     508       100               Fargo (1996)          1997   \n",
       "3      181     507       181  Return of the Jedi (1983)          1997   \n",
       "4      294     485       294           Liar Liar (1997)          1997   \n",
       "\n",
       "                                            IMDb_URL   genre  \n",
       "0  http://us.imdb.com/M/title-exact?Star%20Wars%2...  Action  \n",
       "1          http://us.imdb.com/Title?Contact+(1997/I)   Drama  \n",
       "2    http://us.imdb.com/M/title-exact?Fargo%20(1996)   Crime  \n",
       "3  http://us.imdb.com/M/title-exact?Return%20of%2...  Action  \n",
       "4          http://us.imdb.com/Title?Liar+Liar+(1997)  Comedy  "
      ]
     },
     "execution_count": 13,
     "metadata": {},
     "output_type": "execute_result"
    }
   ],
   "source": [
    "# use pandas merge to get the combined view \n",
    "pd.merge(pop_five, movie_df, left_on = 'item_id', right_on = 'movie_id')"
   ]
  },
  {
   "cell_type": "markdown",
   "metadata": {},
   "source": [
    "### More number of users have reviewed Star Wars, Contact, Fargo\n",
    "### So these are popular movies which can be recommended to watch"
   ]
  },
  {
   "cell_type": "code",
   "execution_count": 14,
   "metadata": {
    "collapsed": false
   },
   "outputs": [
    {
     "data": {
      "text/html": [
       "<div style=\"max-height:1000px;max-width:1500px;overflow:auto;\">\n",
       "<table border=\"1\" class=\"dataframe\">\n",
       "  <thead>\n",
       "    <tr style=\"text-align: right;\">\n",
       "      <th></th>\n",
       "      <th>item_id</th>\n",
       "      <th>rating</th>\n",
       "      <th>movie_id</th>\n",
       "      <th>movie_title</th>\n",
       "      <th>release_year</th>\n",
       "      <th>IMDb_URL</th>\n",
       "      <th>genre</th>\n",
       "    </tr>\n",
       "  </thead>\n",
       "  <tbody>\n",
       "    <tr>\n",
       "      <th>0</th>\n",
       "      <td>  814</td>\n",
       "      <td> 5</td>\n",
       "      <td>  814</td>\n",
       "      <td>                     Great Day in Harlem, A (1994)</td>\n",
       "      <td> 1994</td>\n",
       "      <td> http://us.imdb.com/M/title-exact?Great%20Day%2...</td>\n",
       "      <td> Documentary</td>\n",
       "    </tr>\n",
       "    <tr>\n",
       "      <th>1</th>\n",
       "      <td> 1599</td>\n",
       "      <td> 5</td>\n",
       "      <td> 1599</td>\n",
       "      <td>                     Someone Else's America (1995)</td>\n",
       "      <td> 1996</td>\n",
       "      <td> http://us.imdb.com/M/title-exact?Someone%20Els...</td>\n",
       "      <td>       Drama</td>\n",
       "    </tr>\n",
       "    <tr>\n",
       "      <th>2</th>\n",
       "      <td> 1201</td>\n",
       "      <td> 5</td>\n",
       "      <td> 1201</td>\n",
       "      <td>        Marlene Dietrich: Shadow and Light (1996) </td>\n",
       "      <td> 1996</td>\n",
       "      <td> http://us.imdb.com/M/title-exact?Marlene%20Die...</td>\n",
       "      <td> Documentary</td>\n",
       "    </tr>\n",
       "    <tr>\n",
       "      <th>3</th>\n",
       "      <td> 1122</td>\n",
       "      <td> 5</td>\n",
       "      <td> 1122</td>\n",
       "      <td>                    They Made Me a Criminal (1939)</td>\n",
       "      <td> 1939</td>\n",
       "      <td> http://us.imdb.com/M/title-exact?They%20Made%2...</td>\n",
       "      <td>       Crime</td>\n",
       "    </tr>\n",
       "    <tr>\n",
       "      <th>4</th>\n",
       "      <td> 1653</td>\n",
       "      <td> 5</td>\n",
       "      <td> 1653</td>\n",
       "      <td> Entertaining Angels: The Dorothy Day Story (1996)</td>\n",
       "      <td> 1996</td>\n",
       "      <td> http://us.imdb.com/M/title-exact?Entertaining%...</td>\n",
       "      <td>       Drama</td>\n",
       "    </tr>\n",
       "  </tbody>\n",
       "</table>\n",
       "</div>"
      ],
      "text/plain": [
       "   item_id  rating  movie_id  \\\n",
       "0      814       5       814   \n",
       "1     1599       5      1599   \n",
       "2     1201       5      1201   \n",
       "3     1122       5      1122   \n",
       "4     1653       5      1653   \n",
       "\n",
       "                                         movie_title  release_year  \\\n",
       "0                      Great Day in Harlem, A (1994)          1994   \n",
       "1                      Someone Else's America (1995)          1996   \n",
       "2         Marlene Dietrich: Shadow and Light (1996)           1996   \n",
       "3                     They Made Me a Criminal (1939)          1939   \n",
       "4  Entertaining Angels: The Dorothy Day Story (1996)          1996   \n",
       "\n",
       "                                            IMDb_URL        genre  \n",
       "0  http://us.imdb.com/M/title-exact?Great%20Day%2...  Documentary  \n",
       "1  http://us.imdb.com/M/title-exact?Someone%20Els...        Drama  \n",
       "2  http://us.imdb.com/M/title-exact?Marlene%20Die...  Documentary  \n",
       "3  http://us.imdb.com/M/title-exact?They%20Made%2...        Crime  \n",
       "4  http://us.imdb.com/M/title-exact?Entertaining%...        Drama  "
      ]
     },
     "execution_count": 14,
     "metadata": {},
     "output_type": "execute_result"
    }
   ],
   "source": [
    "# popular movies by mean of user rating, movies with the higher mean of reviews \n",
    "recomm_mvies = grp_movies.agg({\"rating\": 'mean'})\n",
    "top_five = recomm_mvies.sort(\"rating\", ascending=False).head(5)\n",
    "\n",
    "# use pandas merge to get the combined view \n",
    "pd.merge(top_five, movie_df, left_on = 'item_id', right_on = 'movie_id')"
   ]
  },
  {
   "cell_type": "markdown",
   "metadata": {},
   "source": [
    "### So these are the movie with a higher mean of reviews"
   ]
  },
  {
   "cell_type": "markdown",
   "metadata": {},
   "source": [
    "### Till now we have seen simple recommendations using pandas, now let us make use of Nearest Neighbors Algorithm\n",
    "\n",
    "### so take a look at films_db dataframe which is in binary one hot encoded, which needs to be used here"
   ]
  },
  {
   "cell_type": "code",
   "execution_count": 15,
   "metadata": {
    "collapsed": false
   },
   "outputs": [
    {
     "data": {
      "text/plain": [
       "Index([u'movie_id', u'movie_title', u'release_date', u'video_release_date', u'IMDb_URL', u'unknown', u'Action', u'Adventure', u'Animation', u'Children's', u'Comedy', u'Crime', u'Documentary', u'Drama', u'Fantasy', u'Film-Noir', u'Horror', u'Musical', u'Mystery', u'Romance', u'Sci-Fi', u'Thriller', u'War', u'Western', u'genre'], dtype='object')"
      ]
     },
     "execution_count": 15,
     "metadata": {},
     "output_type": "execute_result"
    }
   ],
   "source": [
    "films_db.columns"
   ]
  },
  {
   "cell_type": "markdown",
   "metadata": {
    "collapsed": true
   },
   "source": [
    "#### Clean up not required columns"
   ]
  },
  {
   "cell_type": "code",
   "execution_count": 16,
   "metadata": {
    "collapsed": false
   },
   "outputs": [],
   "source": [
    "films_db['release_year'] = pd.to_datetime(films_db['release_date'])\n",
    "films_db['release_year'] = films_db['release_year'].dt.year\n",
    "not_required_columns = ['video_release_date', 'IMDb_URL', 'unknown', 'genre', 'release_date']\n",
    "films_db = films_db.drop(not_required_columns, axis=1)"
   ]
  },
  {
   "cell_type": "code",
   "execution_count": 17,
   "metadata": {
    "collapsed": false
   },
   "outputs": [
    {
     "data": {
      "text/plain": [
       "Index([u'movie_id', u'movie_title', u'Action', u'Adventure', u'Animation', u'Children's', u'Comedy', u'Crime', u'Documentary', u'Drama', u'Fantasy', u'Film-Noir', u'Horror', u'Musical', u'Mystery', u'Romance', u'Sci-Fi', u'Thriller', u'War', u'Western', u'release_year'], dtype='object')"
      ]
     },
     "execution_count": 17,
     "metadata": {},
     "output_type": "execute_result"
    }
   ],
   "source": [
    "films_db.columns"
   ]
  },
  {
   "cell_type": "code",
   "execution_count": 18,
   "metadata": {
    "collapsed": false
   },
   "outputs": [
    {
     "data": {
      "text/html": [
       "<div style=\"max-height:1000px;max-width:1500px;overflow:auto;\">\n",
       "<table border=\"1\" class=\"dataframe\">\n",
       "  <thead>\n",
       "    <tr style=\"text-align: right;\">\n",
       "      <th></th>\n",
       "      <th>movie_id</th>\n",
       "      <th>movie_title</th>\n",
       "      <th>Action</th>\n",
       "      <th>Adventure</th>\n",
       "      <th>Animation</th>\n",
       "      <th>Children's</th>\n",
       "      <th>Comedy</th>\n",
       "      <th>Crime</th>\n",
       "      <th>Documentary</th>\n",
       "      <th>Drama</th>\n",
       "      <th>...</th>\n",
       "      <th>Film-Noir</th>\n",
       "      <th>Horror</th>\n",
       "      <th>Musical</th>\n",
       "      <th>Mystery</th>\n",
       "      <th>Romance</th>\n",
       "      <th>Sci-Fi</th>\n",
       "      <th>Thriller</th>\n",
       "      <th>War</th>\n",
       "      <th>Western</th>\n",
       "      <th>release_year</th>\n",
       "    </tr>\n",
       "  </thead>\n",
       "  <tbody>\n",
       "    <tr>\n",
       "      <th>0</th>\n",
       "      <td> 1</td>\n",
       "      <td> Toy Story (1995)</td>\n",
       "      <td> 0</td>\n",
       "      <td> 0</td>\n",
       "      <td> 1</td>\n",
       "      <td> 1</td>\n",
       "      <td> 1</td>\n",
       "      <td> 0</td>\n",
       "      <td> 0</td>\n",
       "      <td> 0</td>\n",
       "      <td>...</td>\n",
       "      <td> 0</td>\n",
       "      <td> 0</td>\n",
       "      <td> 0</td>\n",
       "      <td> 0</td>\n",
       "      <td> 0</td>\n",
       "      <td> 0</td>\n",
       "      <td> 0</td>\n",
       "      <td> 0</td>\n",
       "      <td> 0</td>\n",
       "      <td> 1995</td>\n",
       "    </tr>\n",
       "  </tbody>\n",
       "</table>\n",
       "<p>1 rows × 21 columns</p>\n",
       "</div>"
      ],
      "text/plain": [
       "   movie_id       movie_title  Action  Adventure  Animation  Children's  \\\n",
       "0         1  Toy Story (1995)       0          0          1           1   \n",
       "\n",
       "   Comedy  Crime  Documentary  Drama      ...       Film-Noir  Horror  \\\n",
       "0       1      0            0      0      ...               0       0   \n",
       "\n",
       "   Musical  Mystery  Romance  Sci-Fi  Thriller  War  Western  release_year  \n",
       "0        0        0        0       0         0    0        0          1995  \n",
       "\n",
       "[1 rows x 21 columns]"
      ]
     },
     "execution_count": 18,
     "metadata": {},
     "output_type": "execute_result"
    }
   ],
   "source": [
    "films_db.head(1)"
   ]
  },
  {
   "cell_type": "markdown",
   "metadata": {
    "collapsed": false
   },
   "source": [
    "### Combine all the three files into single dataframe"
   ]
  },
  {
   "cell_type": "markdown",
   "metadata": {},
   "source": [
    "\n"
   ]
  },
  {
   "cell_type": "code",
   "execution_count": 19,
   "metadata": {
    "collapsed": false
   },
   "outputs": [
    {
     "data": {
      "text/html": [
       "<div style=\"max-height:1000px;max-width:1500px;overflow:auto;\">\n",
       "<table border=\"1\" class=\"dataframe\">\n",
       "  <thead>\n",
       "    <tr style=\"text-align: right;\">\n",
       "      <th></th>\n",
       "      <th>user_id</th>\n",
       "      <th>item_id</th>\n",
       "      <th>rating</th>\n",
       "      <th>movie_id</th>\n",
       "      <th>movie_title</th>\n",
       "      <th>Action</th>\n",
       "      <th>Adventure</th>\n",
       "      <th>Animation</th>\n",
       "      <th>Children's</th>\n",
       "      <th>Comedy</th>\n",
       "      <th>...</th>\n",
       "      <th>Film-Noir</th>\n",
       "      <th>Horror</th>\n",
       "      <th>Musical</th>\n",
       "      <th>Mystery</th>\n",
       "      <th>Romance</th>\n",
       "      <th>Sci-Fi</th>\n",
       "      <th>Thriller</th>\n",
       "      <th>War</th>\n",
       "      <th>Western</th>\n",
       "      <th>release_year</th>\n",
       "    </tr>\n",
       "  </thead>\n",
       "  <tbody>\n",
       "    <tr>\n",
       "      <th>0</th>\n",
       "      <td> 196</td>\n",
       "      <td> 242</td>\n",
       "      <td> 3</td>\n",
       "      <td> 242</td>\n",
       "      <td> Kolya (1996)</td>\n",
       "      <td> 0</td>\n",
       "      <td> 0</td>\n",
       "      <td> 0</td>\n",
       "      <td> 0</td>\n",
       "      <td> 1</td>\n",
       "      <td>...</td>\n",
       "      <td> 0</td>\n",
       "      <td> 0</td>\n",
       "      <td> 0</td>\n",
       "      <td> 0</td>\n",
       "      <td> 0</td>\n",
       "      <td> 0</td>\n",
       "      <td> 0</td>\n",
       "      <td> 0</td>\n",
       "      <td> 0</td>\n",
       "      <td> 1997</td>\n",
       "    </tr>\n",
       "  </tbody>\n",
       "</table>\n",
       "<p>1 rows × 24 columns</p>\n",
       "</div>"
      ],
      "text/plain": [
       "   user_id  item_id  rating  movie_id   movie_title  Action  Adventure  \\\n",
       "0      196      242       3       242  Kolya (1996)       0          0   \n",
       "\n",
       "   Animation  Children's  Comedy      ...       Film-Noir  Horror  Musical  \\\n",
       "0          0           0       1      ...               0       0        0   \n",
       "\n",
       "   Mystery  Romance  Sci-Fi  Thriller  War  Western  release_year  \n",
       "0        0        0       0         0    0        0          1997  \n",
       "\n",
       "[1 rows x 24 columns]"
      ]
     },
     "execution_count": 19,
     "metadata": {},
     "output_type": "execute_result"
    }
   ],
   "source": [
    "merged_frame = pd.merge(df, films_db, left_on = 'item_id', right_on = 'movie_id')\n",
    "merged_frame.head(1)"
   ]
  },
  {
   "cell_type": "code",
   "execution_count": 20,
   "metadata": {
    "collapsed": false
   },
   "outputs": [
    {
     "data": {
      "text/plain": [
       "Index([u'user_id', u'item_id', u'rating', u'movie_id', u'movie_title', u'Action', u'Adventure', u'Animation', u'Children's', u'Comedy', u'Crime', u'Documentary', u'Drama', u'Fantasy', u'Film-Noir', u'Horror', u'Musical', u'Mystery', u'Romance', u'Sci-Fi', u'Thriller', u'War', u'Western', u'release_year'], dtype='object')"
      ]
     },
     "execution_count": 20,
     "metadata": {},
     "output_type": "execute_result"
    }
   ],
   "source": [
    "merged_frame.columns"
   ]
  },
  {
   "cell_type": "code",
   "execution_count": 21,
   "metadata": {
    "collapsed": true
   },
   "outputs": [],
   "source": [
    "merged_frame = pd.merge(merged_frame, user_df, left_on = 'user_id', right_on = 'user_id')"
   ]
  },
  {
   "cell_type": "code",
   "execution_count": 22,
   "metadata": {
    "collapsed": false
   },
   "outputs": [
    {
     "data": {
      "text/html": [
       "<div style=\"max-height:1000px;max-width:1500px;overflow:auto;\">\n",
       "<table border=\"1\" class=\"dataframe\">\n",
       "  <thead>\n",
       "    <tr style=\"text-align: right;\">\n",
       "      <th></th>\n",
       "      <th>user_id</th>\n",
       "      <th>item_id</th>\n",
       "      <th>rating</th>\n",
       "      <th>movie_id</th>\n",
       "      <th>movie_title</th>\n",
       "      <th>Action</th>\n",
       "      <th>Adventure</th>\n",
       "      <th>Animation</th>\n",
       "      <th>Children's</th>\n",
       "      <th>Comedy</th>\n",
       "      <th>...</th>\n",
       "      <th>Mystery</th>\n",
       "      <th>Romance</th>\n",
       "      <th>Sci-Fi</th>\n",
       "      <th>Thriller</th>\n",
       "      <th>War</th>\n",
       "      <th>Western</th>\n",
       "      <th>release_year</th>\n",
       "      <th>age</th>\n",
       "      <th>gender</th>\n",
       "      <th>occupation</th>\n",
       "    </tr>\n",
       "  </thead>\n",
       "  <tbody>\n",
       "    <tr>\n",
       "      <th>0</th>\n",
       "      <td> 196</td>\n",
       "      <td> 242</td>\n",
       "      <td> 3</td>\n",
       "      <td> 242</td>\n",
       "      <td> Kolya (1996)</td>\n",
       "      <td> 0</td>\n",
       "      <td> 0</td>\n",
       "      <td> 0</td>\n",
       "      <td> 0</td>\n",
       "      <td> 1</td>\n",
       "      <td>...</td>\n",
       "      <td> 0</td>\n",
       "      <td> 0</td>\n",
       "      <td> 0</td>\n",
       "      <td> 0</td>\n",
       "      <td> 0</td>\n",
       "      <td> 0</td>\n",
       "      <td> 1997</td>\n",
       "      <td> 49</td>\n",
       "      <td> M</td>\n",
       "      <td> writer</td>\n",
       "    </tr>\n",
       "  </tbody>\n",
       "</table>\n",
       "<p>1 rows × 27 columns</p>\n",
       "</div>"
      ],
      "text/plain": [
       "   user_id  item_id  rating  movie_id   movie_title  Action  Adventure  \\\n",
       "0      196      242       3       242  Kolya (1996)       0          0   \n",
       "\n",
       "   Animation  Children's  Comedy     ...      Mystery  Romance  Sci-Fi  \\\n",
       "0          0           0       1     ...            0        0       0   \n",
       "\n",
       "   Thriller  War  Western  release_year  age  gender  occupation  \n",
       "0         0    0        0          1997   49       M      writer  \n",
       "\n",
       "[1 rows x 27 columns]"
      ]
     },
     "execution_count": 22,
     "metadata": {},
     "output_type": "execute_result"
    }
   ],
   "source": [
    "merged_frame.head(1)"
   ]
  },
  {
   "cell_type": "code",
   "execution_count": 23,
   "metadata": {
    "collapsed": false
   },
   "outputs": [
    {
     "name": "stdout",
     "output_type": "stream",
     "text": [
      "Index([u'user_id', u'item_id', u'rating', u'movie_id', u'movie_title', u'Action', u'Adventure', u'Animation', u'Children's', u'Comedy', u'Crime', u'Documentary', u'Drama', u'Fantasy', u'Film-Noir', u'Horror', u'Musical', u'Mystery', u'Romance', u'Sci-Fi', u'Thriller', u'War', u'Western', u'release_year', u'age', u'gender', u'occupation'], dtype='object')\n",
      "100000\n"
     ]
    }
   ],
   "source": [
    "print merged_frame.columns\n",
    "print len(merged_frame)"
   ]
  },
  {
   "cell_type": "markdown",
   "metadata": {},
   "source": [
    "### Clean up all ID columns since we have merged all the three files and we will require those columns for prediction"
   ]
  },
  {
   "cell_type": "code",
   "execution_count": 24,
   "metadata": {
    "collapsed": false
   },
   "outputs": [
    {
     "name": "stdout",
     "output_type": "stream",
     "text": [
      "Index([u'rating', u'movie_title', u'Action', u'Adventure', u'Animation', u'Children's', u'Comedy', u'Crime', u'Documentary', u'Drama', u'Fantasy', u'Film-Noir', u'Horror', u'Musical', u'Mystery', u'Romance', u'Sci-Fi', u'Thriller', u'War', u'Western', u'release_year', u'age', u'gender', u'occupation'], dtype='object')\n"
     ]
    }
   ],
   "source": [
    "not_required_columns = ['user_id', 'item_id', 'movie_id']\n",
    "merged_frame = merged_frame.drop(not_required_columns, axis=1)\n",
    "print merged_frame.columns"
   ]
  },
  {
   "cell_type": "markdown",
   "metadata": {},
   "source": [
    "### binary one hot encode gender and occupation"
   ]
  },
  {
   "cell_type": "code",
   "execution_count": 25,
   "metadata": {
    "collapsed": false
   },
   "outputs": [
    {
     "data": {
      "text/html": [
       "<div style=\"max-height:1000px;max-width:1500px;overflow:auto;\">\n",
       "<table border=\"1\" class=\"dataframe\">\n",
       "  <thead>\n",
       "    <tr style=\"text-align: right;\">\n",
       "      <th></th>\n",
       "      <th>rating</th>\n",
       "      <th>movie_title</th>\n",
       "      <th>Action</th>\n",
       "      <th>Adventure</th>\n",
       "      <th>Animation</th>\n",
       "      <th>Children's</th>\n",
       "      <th>Comedy</th>\n",
       "      <th>Crime</th>\n",
       "      <th>Documentary</th>\n",
       "      <th>Drama</th>\n",
       "      <th>...</th>\n",
       "      <th>occupation_marketing</th>\n",
       "      <th>occupation_none</th>\n",
       "      <th>occupation_other</th>\n",
       "      <th>occupation_programmer</th>\n",
       "      <th>occupation_retired</th>\n",
       "      <th>occupation_salesman</th>\n",
       "      <th>occupation_scientist</th>\n",
       "      <th>occupation_student</th>\n",
       "      <th>occupation_technician</th>\n",
       "      <th>occupation_writer</th>\n",
       "    </tr>\n",
       "  </thead>\n",
       "  <tbody>\n",
       "    <tr>\n",
       "      <th>0</th>\n",
       "      <td> 3</td>\n",
       "      <td> Kolya (1996)</td>\n",
       "      <td> 0</td>\n",
       "      <td> 0</td>\n",
       "      <td> 0</td>\n",
       "      <td> 0</td>\n",
       "      <td> 1</td>\n",
       "      <td> 0</td>\n",
       "      <td> 0</td>\n",
       "      <td> 0</td>\n",
       "      <td>...</td>\n",
       "      <td> 0</td>\n",
       "      <td> 0</td>\n",
       "      <td> 0</td>\n",
       "      <td> 0</td>\n",
       "      <td> 0</td>\n",
       "      <td> 0</td>\n",
       "      <td> 0</td>\n",
       "      <td> 0</td>\n",
       "      <td> 0</td>\n",
       "      <td> 1</td>\n",
       "    </tr>\n",
       "  </tbody>\n",
       "</table>\n",
       "<p>1 rows × 45 columns</p>\n",
       "</div>"
      ],
      "text/plain": [
       "   rating   movie_title  Action  Adventure  Animation  Children's  Comedy  \\\n",
       "0       3  Kolya (1996)       0          0          0           0       1   \n",
       "\n",
       "   Crime  Documentary  Drama        ...          occupation_marketing  \\\n",
       "0      0            0      0        ...                             0   \n",
       "\n",
       "   occupation_none  occupation_other  occupation_programmer  \\\n",
       "0                0                 0                      0   \n",
       "\n",
       "   occupation_retired  occupation_salesman  occupation_scientist  \\\n",
       "0                   0                    0                     0   \n",
       "\n",
       "   occupation_student  occupation_technician  occupation_writer  \n",
       "0                   0                      0                  1  \n",
       "\n",
       "[1 rows x 45 columns]"
      ]
     },
     "execution_count": 25,
     "metadata": {},
     "output_type": "execute_result"
    }
   ],
   "source": [
    "merged_frame = pd.get_dummies(merged_frame, prefix=['gender', 'occupation'], columns=['gender', 'occupation'])\n",
    "merged_frame.head(1)"
   ]
  },
  {
   "cell_type": "code",
   "execution_count": 26,
   "metadata": {
    "collapsed": false
   },
   "outputs": [
    {
     "data": {
      "text/plain": [
       "100000"
      ]
     },
     "execution_count": 26,
     "metadata": {},
     "output_type": "execute_result"
    }
   ],
   "source": [
    "len(merged_frame)"
   ]
  },
  {
   "cell_type": "markdown",
   "metadata": {},
   "source": [
    "### So now with genre, occupation, gender, release_year variable, it's time to use NearestNeighbors"
   ]
  },
  {
   "cell_type": "code",
   "execution_count": 27,
   "metadata": {
    "collapsed": true
   },
   "outputs": [],
   "source": [
    "import sklearn\n",
    "from sklearn.neighbors import NearestNeighbors"
   ]
  },
  {
   "cell_type": "code",
   "execution_count": 28,
   "metadata": {
    "collapsed": false
   },
   "outputs": [
    {
     "data": {
      "text/html": [
       "<div style=\"max-height:1000px;max-width:1500px;overflow:auto;\">\n",
       "<table border=\"1\" class=\"dataframe\">\n",
       "  <thead>\n",
       "    <tr style=\"text-align: right;\">\n",
       "      <th></th>\n",
       "      <th>rating</th>\n",
       "      <th>movie_title</th>\n",
       "      <th>Action</th>\n",
       "      <th>Adventure</th>\n",
       "      <th>Animation</th>\n",
       "      <th>Children's</th>\n",
       "      <th>Comedy</th>\n",
       "      <th>Crime</th>\n",
       "      <th>Documentary</th>\n",
       "      <th>Drama</th>\n",
       "      <th>...</th>\n",
       "      <th>occupation_marketing</th>\n",
       "      <th>occupation_none</th>\n",
       "      <th>occupation_other</th>\n",
       "      <th>occupation_programmer</th>\n",
       "      <th>occupation_retired</th>\n",
       "      <th>occupation_salesman</th>\n",
       "      <th>occupation_scientist</th>\n",
       "      <th>occupation_student</th>\n",
       "      <th>occupation_technician</th>\n",
       "      <th>occupation_writer</th>\n",
       "    </tr>\n",
       "  </thead>\n",
       "  <tbody>\n",
       "    <tr>\n",
       "      <th>0</th>\n",
       "      <td> 3</td>\n",
       "      <td> Kolya (1996)</td>\n",
       "      <td> 0</td>\n",
       "      <td> 0</td>\n",
       "      <td> 0</td>\n",
       "      <td> 0</td>\n",
       "      <td> 1</td>\n",
       "      <td> 0</td>\n",
       "      <td> 0</td>\n",
       "      <td> 0</td>\n",
       "      <td>...</td>\n",
       "      <td> 0</td>\n",
       "      <td> 0</td>\n",
       "      <td> 0</td>\n",
       "      <td> 0</td>\n",
       "      <td> 0</td>\n",
       "      <td> 0</td>\n",
       "      <td> 0</td>\n",
       "      <td> 0</td>\n",
       "      <td> 0</td>\n",
       "      <td> 1</td>\n",
       "    </tr>\n",
       "  </tbody>\n",
       "</table>\n",
       "<p>1 rows × 45 columns</p>\n",
       "</div>"
      ],
      "text/plain": [
       "   rating   movie_title  Action  Adventure  Animation  Children's  Comedy  \\\n",
       "0       3  Kolya (1996)       0          0          0           0       1   \n",
       "\n",
       "   Crime  Documentary  Drama        ...          occupation_marketing  \\\n",
       "0      0            0      0        ...                             0   \n",
       "\n",
       "   occupation_none  occupation_other  occupation_programmer  \\\n",
       "0                0                 0                      0   \n",
       "\n",
       "   occupation_retired  occupation_salesman  occupation_scientist  \\\n",
       "0                   0                    0                     0   \n",
       "\n",
       "   occupation_student  occupation_technician  occupation_writer  \n",
       "0                   0                      0                  1  \n",
       "\n",
       "[1 rows x 45 columns]"
      ]
     },
     "execution_count": 28,
     "metadata": {},
     "output_type": "execute_result"
    }
   ],
   "source": [
    "merged_frame.head(1)"
   ]
  },
  {
   "cell_type": "markdown",
   "metadata": {},
   "source": [
    "### All the variables are binary encoded and number columns except movie title which is the predicted"
   ]
  },
  {
   "cell_type": "code",
   "execution_count": 29,
   "metadata": {
    "collapsed": false
   },
   "outputs": [
    {
     "data": {
      "text/plain": [
       "Index([u'rating', u'movie_title', u'Action', u'Adventure', u'Animation', u'Children's', u'Comedy', u'Crime', u'Documentary', u'Drama', u'Fantasy', u'Film-Noir', u'Horror', u'Musical', u'Mystery', u'Romance', u'Sci-Fi', u'Thriller', u'War', u'Western', u'release_year', u'age', u'gender_F', u'gender_M', u'occupation_administrator', u'occupation_artist', u'occupation_doctor', u'occupation_educator', u'occupation_engineer', u'occupation_entertainment', u'occupation_executive', u'occupation_healthcare', u'occupation_homemaker', u'occupation_lawyer', u'occupation_librarian', u'occupation_marketing', u'occupation_none', u'occupation_other', u'occupation_programmer', u'occupation_retired', u'occupation_salesman', u'occupation_scientist', u'occupation_student', u'occupation_technician', u'occupation_writer'], dtype='object')"
      ]
     },
     "execution_count": 29,
     "metadata": {},
     "output_type": "execute_result"
    }
   ],
   "source": [
    "merged_frame.columns"
   ]
  },
  {
   "cell_type": "markdown",
   "metadata": {},
   "source": [
    "### let us write the test input \n",
    "\n",
    "### going for a 3 rating, with genres (action, Crime, Mystery, Thriller), release year 1990, setting the age of the viewer as 26 Male and occupation as Engineer"
   ]
  },
  {
   "cell_type": "code",
   "execution_count": 30,
   "metadata": {
    "collapsed": true
   },
   "outputs": [],
   "source": [
    "t = [3, 1, 0, 0, 0, 0, 1, 0, 0, 0, 0, 0, 0, 1, 0, 0, 1, 0, 0, \n",
    "     1990, \n",
    "     26, \n",
    "     0, 1,\n",
    "     0, 0, 0, 0, 1, 0, 0, 0, 0, 0, 0, 0, 0, 0, 0, 0, 0, 0, 0, 0, 0]"
   ]
  },
  {
   "cell_type": "code",
   "execution_count": 31,
   "metadata": {
    "collapsed": false
   },
   "outputs": [
    {
     "data": {
      "text/plain": [
       "array([[  3.00000000e+00,   0.00000000e+00,   0.00000000e+00,\n",
       "          0.00000000e+00,   0.00000000e+00,   1.00000000e+00,\n",
       "          0.00000000e+00,   0.00000000e+00,   0.00000000e+00,\n",
       "          0.00000000e+00,   0.00000000e+00,   0.00000000e+00,\n",
       "          0.00000000e+00,   0.00000000e+00,   0.00000000e+00,\n",
       "          0.00000000e+00,   0.00000000e+00,   0.00000000e+00,\n",
       "          0.00000000e+00,   1.99700000e+03,   4.90000000e+01,\n",
       "          0.00000000e+00,   1.00000000e+00,   0.00000000e+00,\n",
       "          0.00000000e+00,   0.00000000e+00,   0.00000000e+00,\n",
       "          0.00000000e+00,   0.00000000e+00,   0.00000000e+00,\n",
       "          0.00000000e+00,   0.00000000e+00,   0.00000000e+00,\n",
       "          0.00000000e+00,   0.00000000e+00,   0.00000000e+00,\n",
       "          0.00000000e+00,   0.00000000e+00,   0.00000000e+00,\n",
       "          0.00000000e+00,   0.00000000e+00,   0.00000000e+00,\n",
       "          0.00000000e+00,   1.00000000e+00]])"
      ]
     },
     "execution_count": 31,
     "metadata": {},
     "output_type": "execute_result"
    }
   ],
   "source": [
    "train_df = merged_frame\n",
    "train_df = train_df.drop(['movie_title'], axis=1)\n",
    "train_df['release_year'] = train_df['release_year'].fillna(train_df['release_year'].min())\n",
    "\n",
    "X = train_df.values\n",
    "X[0:1]"
   ]
  },
  {
   "cell_type": "code",
   "execution_count": 32,
   "metadata": {
    "collapsed": false
   },
   "outputs": [],
   "source": [
    "nbrs = NearestNeighbors(n_neighbors=1).fit(X)"
   ]
  },
  {
   "cell_type": "code",
   "execution_count": 33,
   "metadata": {
    "collapsed": false
   },
   "outputs": [
    {
     "name": "stdout",
     "output_type": "stream",
     "text": [
      "(array([[ 1.73205081]]), array([[51149]], dtype=int64))\n"
     ]
    }
   ],
   "source": [
    "print(nbrs.kneighbors([t]))"
   ]
  },
  {
   "cell_type": "code",
   "execution_count": 34,
   "metadata": {
    "collapsed": false
   },
   "outputs": [
    {
     "data": {
      "text/plain": [
       "rating                                      3\n",
       "movie_title                 Die Hard 2 (1990)\n",
       "Action                                      1\n",
       "Adventure                                   0\n",
       "Animation                                   0\n",
       "Children's                                  0\n",
       "Comedy                                      0\n",
       "Crime                                       0\n",
       "Documentary                                 0\n",
       "Drama                                       0\n",
       "Fantasy                                     0\n",
       "Film-Noir                                   0\n",
       "Horror                                      0\n",
       "Musical                                     0\n",
       "Mystery                                     0\n",
       "Romance                                     0\n",
       "Sci-Fi                                      0\n",
       "Thriller                                    1\n",
       "War                                         0\n",
       "Western                                     0\n",
       "release_year                             1990\n",
       "age                                        27\n",
       "gender_F                                    0\n",
       "gender_M                                    1\n",
       "occupation_administrator                    0\n",
       "occupation_artist                           0\n",
       "occupation_doctor                           0\n",
       "occupation_educator                         0\n",
       "occupation_engineer                         1\n",
       "occupation_entertainment                    0\n",
       "occupation_executive                        0\n",
       "occupation_healthcare                       0\n",
       "occupation_homemaker                        0\n",
       "occupation_lawyer                           0\n",
       "occupation_librarian                        0\n",
       "occupation_marketing                        0\n",
       "occupation_none                             0\n",
       "occupation_other                            0\n",
       "occupation_programmer                       0\n",
       "occupation_retired                          0\n",
       "occupation_salesman                         0\n",
       "occupation_scientist                        0\n",
       "occupation_student                          0\n",
       "occupation_technician                       0\n",
       "occupation_writer                           0\n",
       "Name: 51149, dtype: object"
      ]
     },
     "execution_count": 34,
     "metadata": {},
     "output_type": "execute_result"
    }
   ],
   "source": [
    "merged_frame.ix[51149]"
   ]
  },
  {
   "cell_type": "markdown",
   "metadata": {},
   "source": [
    "### So it has recommended us to watch the movie Die Hard 2 (1990), it has worked :)\n",
    "\n",
    "### Ask for some more combinations of the same test case"
   ]
  },
  {
   "cell_type": "code",
   "execution_count": 35,
   "metadata": {
    "collapsed": true
   },
   "outputs": [],
   "source": [
    "nbrs = NearestNeighbors(n_neighbors=5).fit(X)"
   ]
  },
  {
   "cell_type": "code",
   "execution_count": 36,
   "metadata": {
    "collapsed": false
   },
   "outputs": [
    {
     "name": "stdout",
     "output_type": "stream",
     "text": [
      "[[51149 64533 80196 80131 64391]]\n"
     ]
    }
   ],
   "source": [
    "print nbrs.kneighbors([t])[1]"
   ]
  },
  {
   "cell_type": "code",
   "execution_count": 37,
   "metadata": {
    "collapsed": false
   },
   "outputs": [
    {
     "data": {
      "text/plain": [
       "51149                   Die Hard 2 (1990)\n",
       "80131    Hunt for Red October, The (1990)\n",
       "Name: movie_title, dtype: object"
      ]
     },
     "execution_count": 37,
     "metadata": {},
     "output_type": "execute_result"
    }
   ],
   "source": [
    "# remember there will be duplicates since we are recommending a movie based on user data, so take unique in the final result\n",
    "merged_frame.ix[[51149,64533, 80196, 80131, 64391]]['movie_title'].drop_duplicates()"
   ]
  },
  {
   "cell_type": "code",
   "execution_count": null,
   "metadata": {
    "collapsed": true
   },
   "outputs": [],
   "source": []
  }
 ],
 "metadata": {
  "kernelspec": {
   "display_name": "Python 2",
   "language": "python",
   "name": "python2"
  },
  "language_info": {
   "codemirror_mode": {
    "name": "ipython",
    "version": 2
   },
   "file_extension": ".py",
   "mimetype": "text/x-python",
   "name": "python",
   "nbconvert_exporter": "python",
   "pygments_lexer": "ipython2",
   "version": "2.7.9"
  }
 },
 "nbformat": 4,
 "nbformat_minor": 0
}
